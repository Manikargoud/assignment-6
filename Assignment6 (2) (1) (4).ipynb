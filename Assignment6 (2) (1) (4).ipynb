{
 "cells": [
  {
   "cell_type": "markdown",
   "id": "2501474a",
   "metadata": {},
   "source": [
    "## Assignment 6\n",
    "\n",
    "### 0. Preperation\n",
    "\n",
    "0-1. Create WRDS account \n",
    "- you should have a confirmation email. If you cannot find it, then go do your junk folder.\n",
    "- you need to \n",
    "\n",
    "1. install library (it is only needed once if you use the same computer.)\n",
    "2. Duo mobile app (two factor authentication) is required.\n"
   ]
  },
  {
   "cell_type": "code",
   "execution_count": 65,
   "id": "238662fa",
   "metadata": {},
   "outputs": [
    {
     "name": "stdout",
     "output_type": "stream",
     "text": [
      "Requirement already satisfied: wrds in c:\\users\\manik\\anaconda3\\lib\\site-packages (3.2.0)\n",
      "Requirement already satisfied: numpy<1.27,>=1.26 in c:\\users\\manik\\anaconda3\\lib\\site-packages (from wrds) (1.26.4)\n",
      "Requirement already satisfied: packaging<23.3 in c:\\users\\manik\\anaconda3\\lib\\site-packages (from wrds) (23.2)\n",
      "Requirement already satisfied: pandas<2.3,>=2.2 in c:\\users\\manik\\anaconda3\\lib\\site-packages (from wrds) (2.2.2)\n",
      "Requirement already satisfied: psycopg2-binary<2.10,>=2.9 in c:\\users\\manik\\anaconda3\\lib\\site-packages (from wrds) (2.9.10)\n",
      "Requirement already satisfied: scipy<1.13,>=1.12 in c:\\users\\manik\\anaconda3\\lib\\site-packages (from wrds) (1.12.0)\n",
      "Requirement already satisfied: sqlalchemy<2.1,>=2 in c:\\users\\manik\\anaconda3\\lib\\site-packages (from wrds) (2.0.30)\n",
      "Requirement already satisfied: python-dateutil>=2.8.2 in c:\\users\\manik\\anaconda3\\lib\\site-packages (from pandas<2.3,>=2.2->wrds) (2.9.0.post0)\n",
      "Requirement already satisfied: pytz>=2020.1 in c:\\users\\manik\\anaconda3\\lib\\site-packages (from pandas<2.3,>=2.2->wrds) (2024.1)\n",
      "Requirement already satisfied: tzdata>=2022.7 in c:\\users\\manik\\anaconda3\\lib\\site-packages (from pandas<2.3,>=2.2->wrds) (2023.3)\n",
      "Requirement already satisfied: typing-extensions>=4.6.0 in c:\\users\\manik\\anaconda3\\lib\\site-packages (from sqlalchemy<2.1,>=2->wrds) (4.11.0)\n",
      "Requirement already satisfied: greenlet!=0.4.17 in c:\\users\\manik\\anaconda3\\lib\\site-packages (from sqlalchemy<2.1,>=2->wrds) (3.0.1)\n",
      "Requirement already satisfied: six>=1.5 in c:\\users\\manik\\anaconda3\\lib\\site-packages (from python-dateutil>=2.8.2->pandas<2.3,>=2.2->wrds) (1.16.0)\n",
      "Note: you may need to restart the kernel to use updated packages.\n"
     ]
    }
   ],
   "source": [
    "%pip install wrds\n"
   ]
  },
  {
   "cell_type": "markdown",
   "id": "e3ced821",
   "metadata": {},
   "source": [
    "0-2. Verify your identify\n",
    "\n",
    "Please run the codes for \"cd\" and \"datetime\""
   ]
  },
  {
   "cell_type": "code",
   "execution_count": 67,
   "id": "81b280cf",
   "metadata": {},
   "outputs": [
    {
     "name": "stdout",
     "output_type": "stream",
     "text": [
      "C:\\Users\\manik\n"
     ]
    }
   ],
   "source": [
    "cd"
   ]
  },
  {
   "cell_type": "code",
   "execution_count": 68,
   "id": "07325442",
   "metadata": {},
   "outputs": [
    {
     "name": "stdout",
     "output_type": "stream",
     "text": [
      "2024-11-12 17:42:47.245334\n"
     ]
    }
   ],
   "source": [
    "import datetime\n",
    "print(datetime.datetime.now())"
   ]
  },
  {
   "cell_type": "markdown",
   "id": "7c226bd4",
   "metadata": {},
   "source": [
    "### 1. Download data from WRDS (Please use your ID and password)\n",
    "\n",
    "    For the question, \"Create .pgpass file now [y/n]?:\" You can fill \"n\""
   ]
  },
  {
   "cell_type": "code",
   "execution_count": 1,
   "id": "b8c08c70",
   "metadata": {},
   "outputs": [],
   "source": [
    "#importing libraries\n",
    "import pandas as pd\n",
    "import wrds"
   ]
  },
  {
   "cell_type": "code",
   "execution_count": 2,
   "id": "09b18750",
   "metadata": {},
   "outputs": [
    {
     "name": "stdin",
     "output_type": "stream",
     "text": [
      "Enter your WRDS username [manik]: manikargoud\n",
      "Enter your password: ········\n"
     ]
    },
    {
     "name": "stdout",
     "output_type": "stream",
     "text": [
      "WRDS recommends setting up a .pgpass file.\n"
     ]
    },
    {
     "name": "stdin",
     "output_type": "stream",
     "text": [
      "Create .pgpass file now [y/n]?:  n\n"
     ]
    },
    {
     "name": "stdout",
     "output_type": "stream",
     "text": [
      "You can create this file yourself at any time with the create_pgpass_file() function.\n",
      "Loading library list...\n",
      "Done\n"
     ]
    }
   ],
   "source": [
    "#connecting WRDS using your ID and password\n",
    "conn = wrds.Connection()"
   ]
  },
  {
   "cell_type": "markdown",
   "id": "f858937f",
   "metadata": {},
   "source": [
    "1-1. Download the company basic info data"
   ]
  },
  {
   "cell_type": "code",
   "execution_count": 5,
   "id": "e786b6c8",
   "metadata": {},
   "outputs": [],
   "source": [
    "info_crsp=conn.get_table(library='crsp', table='stocknames', columns =['siccd', 'permno', 'ticker','comnam', 'cusip','namedt'])"
   ]
  },
  {
   "cell_type": "code",
   "execution_count": 7,
   "id": "2264fec0",
   "metadata": {},
   "outputs": [
    {
     "data": {
      "text/html": [
       "<div>\n",
       "<style scoped>\n",
       "    .dataframe tbody tr th:only-of-type {\n",
       "        vertical-align: middle;\n",
       "    }\n",
       "\n",
       "    .dataframe tbody tr th {\n",
       "        vertical-align: top;\n",
       "    }\n",
       "\n",
       "    .dataframe thead th {\n",
       "        text-align: right;\n",
       "    }\n",
       "</style>\n",
       "<table border=\"1\" class=\"dataframe\">\n",
       "  <thead>\n",
       "    <tr style=\"text-align: right;\">\n",
       "      <th></th>\n",
       "      <th>siccd</th>\n",
       "      <th>permno</th>\n",
       "      <th>ticker</th>\n",
       "      <th>comnam</th>\n",
       "      <th>cusip</th>\n",
       "      <th>namedt</th>\n",
       "    </tr>\n",
       "  </thead>\n",
       "  <tbody>\n",
       "    <tr>\n",
       "      <th>0</th>\n",
       "      <td>3990</td>\n",
       "      <td>10000</td>\n",
       "      <td>OMFGA</td>\n",
       "      <td>OPTIMUM MANUFACTURING INC</td>\n",
       "      <td>68391610</td>\n",
       "      <td>1986-01-07</td>\n",
       "    </tr>\n",
       "    <tr>\n",
       "      <th>1</th>\n",
       "      <td>4920</td>\n",
       "      <td>10001</td>\n",
       "      <td>GFGC</td>\n",
       "      <td>GREAT FALLS GAS CO</td>\n",
       "      <td>36720410</td>\n",
       "      <td>1986-01-09</td>\n",
       "    </tr>\n",
       "    <tr>\n",
       "      <th>2</th>\n",
       "      <td>4920</td>\n",
       "      <td>10001</td>\n",
       "      <td>EWST</td>\n",
       "      <td>ENERGY WEST INC</td>\n",
       "      <td>36720410</td>\n",
       "      <td>1993-11-22</td>\n",
       "    </tr>\n",
       "    <tr>\n",
       "      <th>3</th>\n",
       "      <td>4920</td>\n",
       "      <td>10001</td>\n",
       "      <td>EWST</td>\n",
       "      <td>ENERGY WEST INC</td>\n",
       "      <td>36720410</td>\n",
       "      <td>2008-02-05</td>\n",
       "    </tr>\n",
       "    <tr>\n",
       "      <th>4</th>\n",
       "      <td>4920</td>\n",
       "      <td>10001</td>\n",
       "      <td>EGAS</td>\n",
       "      <td>ENERGY INC</td>\n",
       "      <td>36720410</td>\n",
       "      <td>2009-08-04</td>\n",
       "    </tr>\n",
       "  </tbody>\n",
       "</table>\n",
       "</div>"
      ],
      "text/plain": [
       "   siccd  permno ticker                     comnam     cusip      namedt\n",
       "0   3990   10000  OMFGA  OPTIMUM MANUFACTURING INC  68391610  1986-01-07\n",
       "1   4920   10001   GFGC         GREAT FALLS GAS CO  36720410  1986-01-09\n",
       "2   4920   10001   EWST            ENERGY WEST INC  36720410  1993-11-22\n",
       "3   4920   10001   EWST            ENERGY WEST INC  36720410  2008-02-05\n",
       "4   4920   10001   EGAS                 ENERGY INC  36720410  2009-08-04"
      ]
     },
     "execution_count": 7,
     "metadata": {},
     "output_type": "execute_result"
    }
   ],
   "source": [
    "info_crsp.head()"
   ]
  },
  {
   "cell_type": "code",
   "execution_count": 9,
   "id": "fc87108a-15f7-4068-b549-93c90a2f0cc1",
   "metadata": {},
   "outputs": [],
   "source": [
    "info_crsp['namedt']=pd.to_datetime(info_crsp['namedt'])"
   ]
  },
  {
   "cell_type": "code",
   "execution_count": 11,
   "id": "b035d16d-8bd6-4a0f-b21b-993051de86e3",
   "metadata": {},
   "outputs": [
    {
     "name": "stdout",
     "output_type": "stream",
     "text": [
      "<class 'pandas.core.frame.DataFrame'>\n",
      "RangeIndex: 80790 entries, 0 to 80789\n",
      "Data columns (total 6 columns):\n",
      " #   Column  Non-Null Count  Dtype         \n",
      "---  ------  --------------  -----         \n",
      " 0   siccd   80790 non-null  int64         \n",
      " 1   permno  80790 non-null  int64         \n",
      " 2   ticker  75849 non-null  object        \n",
      " 3   comnam  80790 non-null  object        \n",
      " 4   cusip   80790 non-null  object        \n",
      " 5   namedt  80790 non-null  datetime64[ns]\n",
      "dtypes: datetime64[ns](1), int64(2), object(3)\n",
      "memory usage: 3.7+ MB\n"
     ]
    }
   ],
   "source": [
    "info_crsp.info()"
   ]
  },
  {
   "cell_type": "code",
   "execution_count": 13,
   "id": "5e60d221",
   "metadata": {
    "scrolled": true
   },
   "outputs": [
    {
     "data": {
      "text/plain": [
       "True     43014\n",
       "False    37776\n",
       "Name: count, dtype: int64"
      ]
     },
     "execution_count": 13,
     "metadata": {},
     "output_type": "execute_result"
    }
   ],
   "source": [
    "#let's check the data again\n",
    "info_crsp.duplicated('permno').value_counts()"
   ]
  },
  {
   "cell_type": "code",
   "execution_count": 15,
   "id": "1781a283-6beb-4dc9-bcc4-018d70262f85",
   "metadata": {},
   "outputs": [],
   "source": [
    "info_crsp=info_crsp.sort_values(['permno','namedt'])"
   ]
  },
  {
   "cell_type": "code",
   "execution_count": 17,
   "id": "df2e833a-79ed-4236-8db6-b4a16a1c411a",
   "metadata": {},
   "outputs": [],
   "source": [
    "info_crsp=info_crsp.drop_duplicates('permno',keep='last')"
   ]
  },
  {
   "cell_type": "code",
   "execution_count": 19,
   "id": "af5822c8-42ac-4576-b2b5-925be11580cd",
   "metadata": {},
   "outputs": [
    {
     "data": {
      "text/plain": [
       "False    37776\n",
       "Name: count, dtype: int64"
      ]
     },
     "execution_count": 19,
     "metadata": {},
     "output_type": "execute_result"
    }
   ],
   "source": [
    "info_crsp.duplicated('permno').value_counts()"
   ]
  },
  {
   "cell_type": "code",
   "execution_count": 21,
   "id": "b3fb1652-65b9-4f49-be7b-56d2b54b7e6b",
   "metadata": {},
   "outputs": [
    {
     "name": "stdout",
     "output_type": "stream",
     "text": [
      "<class 'pandas.core.frame.DataFrame'>\n",
      "Index: 37776 entries, 0 to 80789\n",
      "Data columns (total 6 columns):\n",
      " #   Column  Non-Null Count  Dtype         \n",
      "---  ------  --------------  -----         \n",
      " 0   siccd   37776 non-null  int64         \n",
      " 1   permno  37776 non-null  int64         \n",
      " 2   ticker  36763 non-null  object        \n",
      " 3   comnam  37776 non-null  object        \n",
      " 4   cusip   37776 non-null  object        \n",
      " 5   namedt  37776 non-null  datetime64[ns]\n",
      "dtypes: datetime64[ns](1), int64(2), object(3)\n",
      "memory usage: 2.0+ MB\n"
     ]
    }
   ],
   "source": [
    "info_crsp.info()"
   ]
  },
  {
   "cell_type": "raw",
   "id": "8a3ef9a4-e87f-4875-b8e6-f48099008560",
   "metadata": {},
   "source": [
    "info_crsp['permno'].nunique()"
   ]
  },
  {
   "cell_type": "markdown",
   "id": "1970ff9d",
   "metadata": {},
   "source": [
    "### 2. Export the company basic info data to collect the abnormal return data via WRDS.\n",
    "\n",
    "2-1. To collect the abnormal return data, we only need 1) permno (from info_crso) and 2) event date (newly added). \n",
    "\n",
    "\n",
    "\n",
    "Because this example is for Hurricane Sandy, let's create a column \"eventdate\" and fill 2022 Oct 22.\n",
    "\n",
    "*Remember for your own project, you need to revise \"eventdate\"*"
   ]
  },
  {
   "cell_type": "code",
   "execution_count": 24,
   "id": "5ef1caf5",
   "metadata": {},
   "outputs": [
    {
     "name": "stderr",
     "output_type": "stream",
     "text": [
      "C:\\Users\\manik\\AppData\\Local\\Temp\\ipykernel_25784\\1882867753.py:5: SettingWithCopyWarning: \n",
      "A value is trying to be set on a copy of a slice from a DataFrame.\n",
      "Try using .loc[row_indexer,col_indexer] = value instead\n",
      "\n",
      "See the caveats in the documentation: https://pandas.pydata.org/pandas-docs/stable/user_guide/indexing.html#returning-a-view-versus-a-copy\n",
      "  crsp_out['eventdate']='2012-10-22'\n"
     ]
    }
   ],
   "source": [
    "# Subset \"permno\"\n",
    "crsp_out=info_crsp[['permno']]\n",
    "\n",
    "# Add event date \n",
    "crsp_out['eventdate']='2012-10-22'\n",
    "# even if there are messages, no worries."
   ]
  },
  {
   "cell_type": "code",
   "execution_count": 26,
   "id": "094742a2",
   "metadata": {},
   "outputs": [
    {
     "data": {
      "text/plain": [
       "(37776, 2)"
      ]
     },
     "execution_count": 26,
     "metadata": {},
     "output_type": "execute_result"
    }
   ],
   "source": [
    "crsp_out.head()\n",
    "crsp_out.shape"
   ]
  },
  {
   "cell_type": "markdown",
   "id": "bddc5f20",
   "metadata": {},
   "source": [
    "2-2 Let's export  \"crsp_out\" to your local computer. \n",
    "\n",
    "\n",
    "Remember you need to know the location of the file you are going to download.\n",
    "\n",
    "Do you remember how to get the directory information? If not, you may use the directory info in your in-class exercise 7."
   ]
  },
  {
   "cell_type": "code",
   "execution_count": 29,
   "id": "470c04a4",
   "metadata": {},
   "outputs": [],
   "source": [
    "# Please do not add the file name here!! the Directory only!!! such as r\"C:\\Users\\kyyoon\\Downloads\"\n",
    "loc=r\"C:\\Users\\manik\\Desktop\\analytics\""
   ]
  },
  {
   "cell_type": "code",
   "execution_count": 31,
   "id": "0f815bcc",
   "metadata": {},
   "outputs": [],
   "source": [
    "fname=loc+'\\\\sandy_permno_test.txt'"
   ]
  },
  {
   "cell_type": "code",
   "execution_count": 33,
   "id": "f6de5685",
   "metadata": {},
   "outputs": [],
   "source": [
    "crsp_out.to_csv(fname, header=False, index=False, sep=' ')"
   ]
  },
  {
   "cell_type": "markdown",
   "id": "6a2bb17e",
   "metadata": {},
   "source": [
    "2-3 Check the folder and the file you downloaded. The file size should be about 1421K."
   ]
  },
  {
   "cell_type": "markdown",
   "id": "84b52ee6",
   "metadata": {},
   "source": [
    "### 3. Download the abnormal return data via WRDS\n",
    "\n",
    "Go to \"Pages\" in Canvas and find \"How to get cumulative abnormal return from WRDS\" and follow the instruction.\n",
    "\n",
    "The output file name should be “sandy_edate.csv”\n",
    "\n",
    "\n",
    "### 4. Post the file on Github \n",
    "\n",
    "The file,“sandy_edate.csv”, should be posted in your GitHub \n",
    "\n",
    "Go to \"Pages\" in Canvas and find \"How to post a file at GitHub\" and follow the instruction.\n",
    "\n",
    "### 5. Read the file from Github\n",
    "\n",
    "You should have the link from Github and please add \"?raw=true\" at the end.\n",
    "\n",
    "For instance, my address is 'https://github.com/kyoon5/shared/blob/main/sandy_edate.csv' and after adding them, the address is \n",
    "'https://github.com/kyoon5/shared/blob/main/sandy_edate.csv?raw=true'\n",
    "\n",
    "**You should use your own GitHub page address!!**"
   ]
  },
  {
   "cell_type": "code",
   "execution_count": 37,
   "id": "7fc85f45",
   "metadata": {},
   "outputs": [],
   "source": [
    "# please add your address here!\n",
    "url='https://github.com/Manikargoud/in-class/blob/main/dqqxekyoavolaws3_edate%20(1).csv?raw=true'"
   ]
  },
  {
   "cell_type": "code",
   "execution_count": 39,
   "id": "e4524660",
   "metadata": {},
   "outputs": [
    {
     "data": {
      "text/html": [
       "<div>\n",
       "<style scoped>\n",
       "    .dataframe tbody tr th:only-of-type {\n",
       "        vertical-align: middle;\n",
       "    }\n",
       "\n",
       "    .dataframe tbody tr th {\n",
       "        vertical-align: top;\n",
       "    }\n",
       "\n",
       "    .dataframe thead th {\n",
       "        text-align: right;\n",
       "    }\n",
       "</style>\n",
       "<table border=\"1\" class=\"dataframe\">\n",
       "  <thead>\n",
       "    <tr style=\"text-align: right;\">\n",
       "      <th></th>\n",
       "      <th>Model</th>\n",
       "      <th>permno</th>\n",
       "      <th>evtdate</th>\n",
       "      <th>cret</th>\n",
       "      <th>car</th>\n",
       "      <th>bhar</th>\n",
       "      <th>nrets</th>\n",
       "      <th>nrets_est</th>\n",
       "    </tr>\n",
       "  </thead>\n",
       "  <tbody>\n",
       "    <tr>\n",
       "      <th>0</th>\n",
       "      <td>Market-Adjusted Model</td>\n",
       "      <td>10001</td>\n",
       "      <td>2012-10-22</td>\n",
       "      <td>-0.001543</td>\n",
       "      <td>0.040828</td>\n",
       "      <td>0.040689</td>\n",
       "      <td>21</td>\n",
       "      <td>100</td>\n",
       "    </tr>\n",
       "    <tr>\n",
       "      <th>1</th>\n",
       "      <td>Market-Adjusted Model</td>\n",
       "      <td>10002</td>\n",
       "      <td>2012-10-22</td>\n",
       "      <td>-0.070000</td>\n",
       "      <td>-0.025975</td>\n",
       "      <td>-0.027768</td>\n",
       "      <td>21</td>\n",
       "      <td>100</td>\n",
       "    </tr>\n",
       "    <tr>\n",
       "      <th>2</th>\n",
       "      <td>Market-Adjusted Model</td>\n",
       "      <td>10025</td>\n",
       "      <td>2012-10-22</td>\n",
       "      <td>0.031687</td>\n",
       "      <td>0.075197</td>\n",
       "      <td>0.073919</td>\n",
       "      <td>21</td>\n",
       "      <td>100</td>\n",
       "    </tr>\n",
       "    <tr>\n",
       "      <th>3</th>\n",
       "      <td>Market-Adjusted Model</td>\n",
       "      <td>10026</td>\n",
       "      <td>2012-10-22</td>\n",
       "      <td>-0.005059</td>\n",
       "      <td>0.038216</td>\n",
       "      <td>0.037173</td>\n",
       "      <td>21</td>\n",
       "      <td>100</td>\n",
       "    </tr>\n",
       "    <tr>\n",
       "      <th>4</th>\n",
       "      <td>Market-Adjusted Model</td>\n",
       "      <td>10032</td>\n",
       "      <td>2012-10-22</td>\n",
       "      <td>-0.321310</td>\n",
       "      <td>-0.295165</td>\n",
       "      <td>-0.279078</td>\n",
       "      <td>21</td>\n",
       "      <td>100</td>\n",
       "    </tr>\n",
       "  </tbody>\n",
       "</table>\n",
       "</div>"
      ],
      "text/plain": [
       "                   Model  permno     evtdate      cret       car      bhar  \\\n",
       "0  Market-Adjusted Model   10001  2012-10-22 -0.001543  0.040828  0.040689   \n",
       "1  Market-Adjusted Model   10002  2012-10-22 -0.070000 -0.025975 -0.027768   \n",
       "2  Market-Adjusted Model   10025  2012-10-22  0.031687  0.075197  0.073919   \n",
       "3  Market-Adjusted Model   10026  2012-10-22 -0.005059  0.038216  0.037173   \n",
       "4  Market-Adjusted Model   10032  2012-10-22 -0.321310 -0.295165 -0.279078   \n",
       "\n",
       "   nrets  nrets_est  \n",
       "0     21        100  \n",
       "1     21        100  \n",
       "2     21        100  \n",
       "3     21        100  \n",
       "4     21        100  "
      ]
     },
     "execution_count": 39,
     "metadata": {},
     "output_type": "execute_result"
    }
   ],
   "source": [
    "abcar=pd.read_csv(url)\n",
    "abcar.head()"
   ]
  },
  {
   "cell_type": "markdown",
   "id": "47375cef",
   "metadata": {},
   "source": [
    "### 6. Let's merge the abnormal return data with the basic company info data"
   ]
  },
  {
   "cell_type": "code",
   "execution_count": 41,
   "id": "f76c1ef9",
   "metadata": {},
   "outputs": [
    {
     "data": {
      "text/html": [
       "<div>\n",
       "<style scoped>\n",
       "    .dataframe tbody tr th:only-of-type {\n",
       "        vertical-align: middle;\n",
       "    }\n",
       "\n",
       "    .dataframe tbody tr th {\n",
       "        vertical-align: top;\n",
       "    }\n",
       "\n",
       "    .dataframe thead th {\n",
       "        text-align: right;\n",
       "    }\n",
       "</style>\n",
       "<table border=\"1\" class=\"dataframe\">\n",
       "  <thead>\n",
       "    <tr style=\"text-align: right;\">\n",
       "      <th></th>\n",
       "      <th>Model</th>\n",
       "      <th>permno</th>\n",
       "      <th>evtdate</th>\n",
       "      <th>cret</th>\n",
       "      <th>car</th>\n",
       "      <th>bhar</th>\n",
       "      <th>nrets</th>\n",
       "      <th>nrets_est</th>\n",
       "      <th>siccd</th>\n",
       "      <th>ticker</th>\n",
       "      <th>comnam</th>\n",
       "      <th>cusip</th>\n",
       "      <th>namedt</th>\n",
       "    </tr>\n",
       "  </thead>\n",
       "  <tbody>\n",
       "    <tr>\n",
       "      <th>0</th>\n",
       "      <td>Market-Adjusted Model</td>\n",
       "      <td>10001</td>\n",
       "      <td>2012-10-22</td>\n",
       "      <td>-0.001543</td>\n",
       "      <td>0.040828</td>\n",
       "      <td>0.040689</td>\n",
       "      <td>21</td>\n",
       "      <td>100</td>\n",
       "      <td>4925</td>\n",
       "      <td>EGAS</td>\n",
       "      <td>GAS NATURAL INC</td>\n",
       "      <td>36720410</td>\n",
       "      <td>2010-07-09</td>\n",
       "    </tr>\n",
       "    <tr>\n",
       "      <th>1</th>\n",
       "      <td>Market-Adjusted Model</td>\n",
       "      <td>10002</td>\n",
       "      <td>2012-10-22</td>\n",
       "      <td>-0.070000</td>\n",
       "      <td>-0.025975</td>\n",
       "      <td>-0.027768</td>\n",
       "      <td>21</td>\n",
       "      <td>100</td>\n",
       "      <td>6020</td>\n",
       "      <td>BTFG</td>\n",
       "      <td>BANCTRUST FINANCIAL GROUP INC</td>\n",
       "      <td>05978R10</td>\n",
       "      <td>2002-05-15</td>\n",
       "    </tr>\n",
       "    <tr>\n",
       "      <th>2</th>\n",
       "      <td>Market-Adjusted Model</td>\n",
       "      <td>10025</td>\n",
       "      <td>2012-10-22</td>\n",
       "      <td>0.031687</td>\n",
       "      <td>0.075197</td>\n",
       "      <td>0.073919</td>\n",
       "      <td>21</td>\n",
       "      <td>100</td>\n",
       "      <td>3081</td>\n",
       "      <td>AEPI</td>\n",
       "      <td>A E P INDUSTRIES INC</td>\n",
       "      <td>00103110</td>\n",
       "      <td>2009-01-30</td>\n",
       "    </tr>\n",
       "    <tr>\n",
       "      <th>3</th>\n",
       "      <td>Market-Adjusted Model</td>\n",
       "      <td>10026</td>\n",
       "      <td>2012-10-22</td>\n",
       "      <td>-0.005059</td>\n",
       "      <td>0.038216</td>\n",
       "      <td>0.037173</td>\n",
       "      <td>21</td>\n",
       "      <td>100</td>\n",
       "      <td>2052</td>\n",
       "      <td>JJSF</td>\n",
       "      <td>J &amp; J SNACK FOODS CORP</td>\n",
       "      <td>46603210</td>\n",
       "      <td>2000-08-01</td>\n",
       "    </tr>\n",
       "    <tr>\n",
       "      <th>4</th>\n",
       "      <td>Market-Adjusted Model</td>\n",
       "      <td>10032</td>\n",
       "      <td>2012-10-22</td>\n",
       "      <td>-0.321310</td>\n",
       "      <td>-0.295165</td>\n",
       "      <td>-0.279078</td>\n",
       "      <td>21</td>\n",
       "      <td>100</td>\n",
       "      <td>3670</td>\n",
       "      <td>PLXS</td>\n",
       "      <td>PLEXUS CORP</td>\n",
       "      <td>72913210</td>\n",
       "      <td>1986-02-05</td>\n",
       "    </tr>\n",
       "  </tbody>\n",
       "</table>\n",
       "</div>"
      ],
      "text/plain": [
       "                   Model  permno     evtdate      cret       car      bhar  \\\n",
       "0  Market-Adjusted Model   10001  2012-10-22 -0.001543  0.040828  0.040689   \n",
       "1  Market-Adjusted Model   10002  2012-10-22 -0.070000 -0.025975 -0.027768   \n",
       "2  Market-Adjusted Model   10025  2012-10-22  0.031687  0.075197  0.073919   \n",
       "3  Market-Adjusted Model   10026  2012-10-22 -0.005059  0.038216  0.037173   \n",
       "4  Market-Adjusted Model   10032  2012-10-22 -0.321310 -0.295165 -0.279078   \n",
       "\n",
       "   nrets  nrets_est  siccd ticker                         comnam     cusip  \\\n",
       "0     21        100   4925   EGAS                GAS NATURAL INC  36720410   \n",
       "1     21        100   6020   BTFG  BANCTRUST FINANCIAL GROUP INC  05978R10   \n",
       "2     21        100   3081   AEPI           A E P INDUSTRIES INC  00103110   \n",
       "3     21        100   2052   JJSF         J & J SNACK FOODS CORP  46603210   \n",
       "4     21        100   3670   PLXS                    PLEXUS CORP  72913210   \n",
       "\n",
       "      namedt  \n",
       "0 2010-07-09  \n",
       "1 2002-05-15  \n",
       "2 2009-01-30  \n",
       "3 2000-08-01  \n",
       "4 1986-02-05  "
      ]
     },
     "execution_count": 41,
     "metadata": {},
     "output_type": "execute_result"
    }
   ],
   "source": [
    "crsp=abcar.merge(info_crsp,how=\"inner\",on='permno')\n",
    "crsp.head()"
   ]
  },
  {
   "cell_type": "code",
   "execution_count": 42,
   "id": "3b962ce8-3725-4882-a225-cfbe92c40df1",
   "metadata": {},
   "outputs": [
    {
     "data": {
      "text/plain": [
       "(6575, 13)"
      ]
     },
     "execution_count": 42,
     "metadata": {},
     "output_type": "execute_result"
    }
   ],
   "source": [
    "crsp.shape"
   ]
  },
  {
   "cell_type": "code",
   "execution_count": 43,
   "id": "9f132af9-6a4d-4d03-9eea-44305103b779",
   "metadata": {},
   "outputs": [],
   "source": [
    "import numpy as np"
   ]
  },
  {
   "cell_type": "code",
   "execution_count": 44,
   "id": "cc54594e-f39e-4143-98f1-82deaad87910",
   "metadata": {},
   "outputs": [],
   "source": [
    "# collecting compustat data\n",
    "\n",
    "comp = conn.raw_sql('''select sich, gvkey, datadate, conm, revt, ni from comp.funda \n",
    "                        where datafmt = 'STD' and consol = 'C'and indfmt = 'INDL'\n",
    "                        ''', date_cols=['datadate'])\n",
    "#generating year\n",
    "comp['year']=pd.DatetimeIndex(comp['datadate']).year\n",
    "\n",
    "#linkage\n",
    "url='https://github.com/kyoon5/shared/blob/main/link.csv?raw=true'\n",
    "link=pd.read_csv(url)\n",
    "link['gvkey'] = link['gvkey'].astype(str).str.zfill(6)\n",
    "link['linkdt']=pd.to_datetime(link['linkdt'])\n",
    "link['linkenddt']=pd.to_datetime(link['linkenddt'])\n",
    "\n",
    "#adding permno for crsp data\n",
    "comp2 = (\n",
    "    comp.merge(link, how='inner', on='gvkey')  # Join on gvkey\n",
    "    .query(\"datadate >= linkdt and (datadate <= linkenddt or linkenddt.isna())\")  # Apply date range filter\n",
    "    .assign(permno=lambda x: x['lpermno'])  # Select permno\n",
    "    .sort_values(['gvkey', 'datadate'])  # Sort by gvkey and datadate\n",
    ")\n",
    "\n",
    "comp2=comp2[['sich', 'gvkey','datadate','conm','revt','ni','year','permno']]"
   ]
  },
  {
   "cell_type": "code",
   "execution_count": 45,
   "id": "87d9f04f-708f-4424-a10f-1c37b2e68ea6",
   "metadata": {},
   "outputs": [],
   "source": [
    "crsp['year']=pd.DatetimeIndex(crsp['evtdate']).year"
   ]
  },
  {
   "cell_type": "code",
   "execution_count": 46,
   "id": "1d6a8bb7-aeb8-468a-85ff-9ddd61a7b931",
   "metadata": {},
   "outputs": [],
   "source": [
    "crsp_comp=crsp.merge(comp2,how='inner',on=['permno','year'])"
   ]
  },
  {
   "cell_type": "code",
   "execution_count": 51,
   "id": "cbd9acba-a3ec-49ba-b5a0-23420f980c59",
   "metadata": {},
   "outputs": [],
   "source": [
    "crsp_comp['retail']=np.where((crsp_comp['siccd']>=5300)&(crsp_comp['siccd']<=5339),True,False)"
   ]
  },
  {
   "cell_type": "code",
   "execution_count": 52,
   "id": "f5b2f17c-e3e1-4f9c-b134-2c179467d4bf",
   "metadata": {},
   "outputs": [
    {
     "data": {
      "text/plain": [
       "retail\n",
       "False    5150\n",
       "True       19\n",
       "Name: count, dtype: int64"
      ]
     },
     "execution_count": 52,
     "metadata": {},
     "output_type": "execute_result"
    }
   ],
   "source": [
    "crsp_comp['retail'].value_counts()"
   ]
  },
  {
   "cell_type": "code",
   "execution_count": 71,
   "id": "75cd670e-d6c5-4239-abf5-212914765c03",
   "metadata": {},
   "outputs": [],
   "source": [
    "import pickle\n",
    "# Save multiple DataFrames in a dictionary\n",
    "data = {'info_crsp': info_crsp, 'crsp': crsp, 'crsp_comp':crsp_comp}\n",
    "# Save dataframe in your local directory- define 'loc' using your local directory\n",
    "loc= r\"C:\\Users\\manik\\Downloads\"\n",
    "fname=loc+r'\\assignment6.pkl'\n",
    "with open(fname, 'wb') as file:\n",
    "    pickle.dump(data, file)\n"
   ]
  },
  {
   "cell_type": "code",
   "execution_count": null,
   "id": "a3c31dfd-a86a-4ccd-bac3-1f329659ef31",
   "metadata": {},
   "outputs": [],
   "source": []
  },
  {
   "cell_type": "code",
   "execution_count": null,
   "id": "2ca6e189-44ab-4ade-b24a-c28614c00a85",
   "metadata": {},
   "outputs": [],
   "source": []
  },
  {
   "cell_type": "code",
   "execution_count": null,
   "id": "4bd425b0-12b2-4e79-81ae-48855f72003b",
   "metadata": {},
   "outputs": [],
   "source": []
  },
  {
   "cell_type": "code",
   "execution_count": null,
   "id": "59f2625e-c460-4165-90e8-322b3b2ba69b",
   "metadata": {},
   "outputs": [],
   "source": []
  }
 ],
 "metadata": {
  "kernelspec": {
   "display_name": "Python 3 (ipykernel)",
   "language": "python",
   "name": "python3"
  },
  "language_info": {
   "codemirror_mode": {
    "name": "ipython",
    "version": 3
   },
   "file_extension": ".py",
   "mimetype": "text/x-python",
   "name": "python",
   "nbconvert_exporter": "python",
   "pygments_lexer": "ipython3",
   "version": "3.12.4"
  }
 },
 "nbformat": 4,
 "nbformat_minor": 5
}
